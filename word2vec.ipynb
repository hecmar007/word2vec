{
 "cells": [
  {
   "cell_type": "markdown",
   "id": "3ffb9ddb-ed51-4400-8d7a-01d75f8ff7b9",
   "metadata": {},
   "source": [
    "<h2>Part I: skip-gram</h2>"
   ]
  },
  {
   "cell_type": "code",
   "execution_count": 1,
   "id": "62a3c657-9445-41ad-b2db-f196c66ee153",
   "metadata": {},
   "outputs": [
    {
     "name": "stdout",
     "output_type": "stream",
     "text": [
      "4365\n",
      "274\n",
      "lamine yamal va arribar amb 7 anys al planter de la masia procedent del petit club cf la torreta aviat va ser considerat una de les millors promeses de lacadèmia encara que va ser inclòs en lequip juvenil a ja per sobre de la seva edat per a la temporada 202223 va ser seleccionat per xavi per entrenar amb el primer equip amb altres joves a principis de setembre del 2022 malgrat que encara no ha signat el seu primer contracte professional amb el club lamine yamal sembla ser un dels membres del planter que més ha impressionat el tècnic català va debutar amb el primer equip el 29 dabril del 2023 substituint gavi al minut 83 en la victòria per 40 contra el reial betis a la lliga convertintse en el jugador més jove en debutar amb el primer equip del fc barcelona amb 15 anys 9 mesos i 16 dies el 14 de maig del 2023 va guanyar el seu primer títol amb el barça ja que va formar part de la plantilla que va guanyar la lliga 202223 lamine yamal va ser titular per primera vegada amb el club el 20 dagost del 2023 en una victòria per 20 contra el cadis a lestadi olímpic lluís companys convertintse en el titular més jove del barcelona a la lliga amb 16 anys i 38 dies la seva primera titularitat va ser rebuda amb una gran ovació per part de lafició quan va ser substituït mancant cinc minuts per al final del partit en la seva següent aparició com a titular lamine yamal va ser nomenat home del partit després de contribuir als dos gols marcats per gavi i robert lewandowski en la victòria per 43 davant el vilareal cf el 28 dagost de 2023 amb 16 anys i 45 dies es va convertir en el jugador més jove a donar una assistència en un partit de lliga uns dies més tard es convertiria amb el jugador més jove del barça a debutar a la lliga de campions amb 16 anys i 68 dies superant el registre de vicky lópez 16 anys i 148 dies el 2 doctubre el fc barcelona anunciava que lamine yamal renovava el seu contracte fins al 2026 amb una clàusula de rescissió de 1000 milions deuros dos dies després va ser titular al seu primer partit de la lliga de campions contra el porto convertintse en el jugador més jove en una alineació titular amb 16 anys i 83 dies lamine yamal era tres dies més jove que celestine babayaro que va establir el rècord el 1994 el 8 doctubre del 2023 lamine va marcar el seu primer gol amb el primer equip en un empat a domicili contra el granada 22 es va convertir en el golejador més jove del barcelona i en el més jove de la història a marcar a la lliga amb 16 anys i 87 dies batent tots dos rècords establerts per ansu fati i fabrice olinga respectivament el 28 doctubre de 2023 lamine va fer la seva primera aparició a el clàssic com a suplent en una derrota per 21 a casa convertintse en el jugador més jove en ser titular amb el barcelona des dansu fati i batent el rècord de vicenç martínez el 1941 el 4 de desembre de 2023 lamine va rebre el trofeu inaugural golden boy the youngest que es concedeix al jugador més jove nominat per al premi golden boy posteriorment el dia de la cerimònia lamine no va estar present a causa dels seus estudis l11 de gener del 2024 lamine va marcar contra losasuna a la victòria per 20 del barcelona a la semifinal de la supercopa despanya es va convertir en el jugador més jove amb 16 anys i 182 dies a marcar a la supercopa lamine va jugar els últims 29 minuts de la final de la supercopa despanya contra el reial madrid el 14 de gener de 2024 es va convertir en el jugador més jove a marcar a la copa del rei després de marcar al minut 32 contra lathletic club en una eventual derrota per 42 a quarts de final l11 de febrer de 2024 lamine va marcar dos gols en lempat a 33 contra el granada cf i va ser triat millor jugador del partit per tant es va convertir en el jugador més jove de la lliga en marcar un doblet batent el rècord anterior de bojan krkić el 2008 i el primer jugador a aconseguir aquest rècord amb menys de 17 anys també es va convertir en el jugador més jove en assolir més de 10 gols i assistir contribucions a la lliga amb 16 anys i 213 dies el 21 de febrer es va convertir en el jugador més jove a jugar la fase eliminatòria de la lliga de campions amb 16 anys i 223 dies quan el barcelona va jugar contra la ssc napoli a la fase eliminatòria de la fase eliminatòria de la lliga de campions batent el rècord anterior del migcampista del paris saintgermain fc warren zaïreemery \n"
     ]
    }
   ],
   "source": [
    "import numpy as np\n",
    "import re\n",
    "\n",
    "text = '''Lamine Yamal, va arribar amb 7 anys al planter de La Masia, procedent del petit club CF la Torreta. Aviat va ser considerat una de les millors promeses de l'acadèmia.\n",
    "\n",
    "Encara que va ser inclòs en l'equip Juvenil A -ja per sobre de la seva edat- per a la temporada 2022-23, va ser seleccionat per Xavi per entrenar amb el primer equip amb altres joves a principis de setembre del 2022. Malgrat que encara no ha signat el seu primer contracte professional amb el club, Lamine Yamal sembla ser un dels membres del planter que més ha impressionat el tècnic català.\n",
    "\n",
    "Va debutar amb el primer equip el 29 d'abril del 2023, substituint Gavi al minut 83 en la victòria per 4-0 contra el Reial Betis a la Lliga, convertint-se en el jugador més jove en debutar amb el primer equip del FC Barcelona amb 15 anys, 9 mesos i 16 dies. El 14 de maig del 2023 va guanyar el seu primer títol amb el Barça, ja que va formar part de la plantilla que va guanyar la Lliga 2022-23.\n",
    "\n",
    "Lamine Yamal va ser titular per primera vegada amb el club el 20 d'agost del 2023 en una victòria per 2-0 contra el Cadis a l'Estadi Olímpic Lluís Companys, convertint-se en el titular més jove del Barcelona a la Lliga amb 16 anys i 38 dies. La seva primera titularitat va ser rebuda amb una gran ovació per part de l'afició quan va ser substituït mancant cinc minuts per al final del partit. En la seva següent aparició com a titular, Lamine Yamal va ser nomenat home del partit després de contribuir als dos gols marcats per Gavi i Robert Lewandowski en la victòria per 4-3 davant el Vila-real CF el 28 d'agost de 2023. Amb 16 anys i 45 dies, es va convertir en el jugador més jove a donar una assistència en un partit de Lliga. Uns dies més tard, es convertiria amb el jugador més jove del Barça a debutar a la Lliga de Campions amb 16 anys i 68 dies, superant el registre de Vicky López (16 anys i 148 dies).\n",
    "\n",
    "El 2 d'octubre, el FC Barcelona anunciava que Lamine Yamal renovava el seu contracte fins al 2026, amb una clàusula de rescissió de 1.000 milions d'euros. Dos dies després, va ser titular al seu primer partit de la Lliga de Campions contra el Porto, convertint-se en el jugador més jove en una alineació titular amb 16 anys i 83 dies. Lamine Yamal era tres dies més jove que Celestine Babayaro, que va establir el rècord el 1994. El 8 d'octubre del 2023, Lamine va marcar el seu primer gol amb el primer equip en un empat a domicili contra el Granada (2-2). Es va convertir en el golejador més jove del Barcelona i en el més jove de la història a marcar a la Lliga, amb 16 anys i 87 dies, batent tots dos rècords establerts per Ansu Fati i Fabrice Olinga respectivament. El 28 d'octubre de 2023, Lamine va fer la seva primera aparició a El Clàssic com a suplent en una derrota per 2-1 a casa, convertint-se en el jugador més jove en ser titular amb el Barcelona des d'Ansu Fati i batent el rècord de Vicenç Martínez el 1941.\n",
    "\n",
    "El 4 de desembre de 2023, Lamine va rebre el trofeu inaugural Golden Boy The Youngest, que es concedeix al jugador més jove nominat per al premi Golden Boy. Posteriorment, el dia de la cerimònia, Lamine no va estar present a causa dels seus estudis.\n",
    "\n",
    "L'11 de gener del 2024, Lamine va marcar contra l'Osasuna a la victòria per 2-0 del Barcelona a la semifinal de la Supercopa d'Espanya. Es va convertir en el jugador més jove, amb 16 anys i 182 dies, a marcar a la Supercopa. Lamine va jugar els últims 29 minuts de la final de la Supercopa d'Espanya contra el Reial Madrid el 14 de gener de 2024. Es va convertir en el jugador més jove a marcar a la Copa del Rei després de marcar al minut 32 contra l'Athletic Club en una eventual derrota per 4-2 a quarts de final.\n",
    "\n",
    "L'11 de febrer de 2024, Lamine va marcar dos gols en l'empat a 3-3 contra el Granada CF i va ser triat millor jugador del partit. Per tant, es va convertir en el jugador més jove de la Lliga en marcar un doblet, batent el rècord anterior de Bojan Krkić el 2008, i el primer jugador a aconseguir aquest rècord amb menys de 17 anys. També es va convertir en el jugador més jove en assolir més de 10 gols i assistir contribucions a la Lliga amb 16 anys i 213 dies. El 21 de febrer es va convertir en el jugador més jove a jugar la fase eliminatòria de la Lliga de Campions, amb 16 anys i 223 dies, quan el Barcelona va jugar contra la SSC Napoli a la fase eliminatòria de la Fase eliminatòria de la Lliga de Campions, batent el rècord anterior del migcampista del Paris Saint-Germain FC Warren Zaïre-Emery.'''\n",
    "\n",
    "# Pre-processament del text per obtenir el nostre vocabulari (tokenitzacio)\n",
    "text = re.sub(r'[^\\w\\s]', '', text)\n",
    "text = text.lower()\n",
    "words = sorted(list(set(text.split())))\n",
    "vocab_size = len(words)\n",
    "\n",
    "token_to_idx = {}\n",
    "idx_to_token = {}\n",
    "\n",
    "for i, token in enumerate(words):\n",
    "    token_to_idx[token] = i\n",
    "    idx_to_token[i] = token\n",
    "\n",
    "encode = lambda s: [token_to_idx[c] for c in s.split()]\n",
    "decode = lambda l: ''.join([idx_to_token[i]+ \" \" for i in l])\n",
    "\n",
    "print(len(text))\n",
    "print(len(words))\n",
    "print(decode(encode(text)))"
   ]
  },
  {
   "cell_type": "code",
   "execution_count": 2,
   "id": "937744a4-44fc-43d5-a6f8-8972023bae84",
   "metadata": {},
   "outputs": [
    {
     "name": "stdout",
     "output_type": "stream",
     "text": [
      "(3386, 274)\n",
      "(3386, 274)\n"
     ]
    }
   ],
   "source": [
    "def one_hot_encode(token, size):\n",
    "    vec = np.zeros(size)\n",
    "    vec[token] = 1\n",
    "    return vec\n",
    "\n",
    "# Obtenim les dades preparades per entrenar\n",
    "# Retorna la llista x, el token actual, i la llista y, el context\n",
    "def get_train_data(text, window_size):\n",
    "    data = encode(text)\n",
    "    x = []\n",
    "    y = []\n",
    "    for i in range(len(data)):\n",
    "        for j in range(1, window_size+1):\n",
    "            if i - j >= 0:\n",
    "                x.append(one_hot_encode(data[i], vocab_size))\n",
    "                y.append(one_hot_encode(data[i - j], vocab_size))\n",
    "            if i + j < len(data):\n",
    "                x.append(one_hot_encode(data[i], vocab_size))\n",
    "                y.append(one_hot_encode(data[i + j], vocab_size))\n",
    "    return np.asarray(x), np.asarray(y)\n",
    "\n",
    "X, Y = get_train_data(text, 2)\n",
    "print(X.shape)\n",
    "print(Y.shape)\n"
   ]
  },
  {
   "cell_type": "code",
   "execution_count": 3,
   "id": "0695d7e4-dc3d-4d46-ae9f-d784c22d0203",
   "metadata": {},
   "outputs": [],
   "source": [
    "# Inicalitzem el model\n",
    "def initialitze_model(n_embd):\n",
    "    model = {\n",
    "        \"w1\": np.random.randn(vocab_size, n_embd),\n",
    "        \"w2\": np.random.randn(n_embd, vocab_size)\n",
    "    }\n",
    "    return model\n",
    "\n",
    "def softmax(X):\n",
    "    exps = np.exp(X - np.max(X, axis=-1, keepdims=True))\n",
    "    return exps / np.sum(exps, axis=-1, keepdims=True)\n",
    "\n",
    "def forward_pass(model, input):\n",
    "    state = {}\n",
    "    \n",
    "    state[\"first_layer\"] = input @ model[\"w1\"]\n",
    "    state[\"second_layer\"] = state[\"first_layer\"] @ model[\"w2\"]\n",
    "    state[\"z\"] = softmax(state[\"second_layer\"])\n",
    "    return state\n",
    "\n",
    "model = initialitze_model(20)"
   ]
  },
  {
   "cell_type": "markdown",
   "id": "7c20e7da-0b5e-4fbe-af31-a5ab58196fea",
   "metadata": {},
   "source": [
    "Seguint els apunts del David, implementació sparse per fer el forward_pass molt més eficient:"
   ]
  },
  {
   "cell_type": "code",
   "execution_count": 4,
   "id": "c7349107-7351-473c-8ef0-619d9d67afa5",
   "metadata": {},
   "outputs": [
    {
     "name": "stdout",
     "output_type": "stream",
     "text": [
      "(3386, 274)\n"
     ]
    }
   ],
   "source": [
    "def get_train_data_sparse(text, window_size):\n",
    "    data = encode(text)\n",
    "    x = []\n",
    "    y = []\n",
    "    for i in range(len(data)):\n",
    "        for j in range(1, window_size+1):\n",
    "            if i - j >= 0:\n",
    "                x.append(data[i])\n",
    "                y.append(data[i - j])\n",
    "            if i + j < len(data):\n",
    "                x.append(data[i])\n",
    "                y.append(data[i + j])\n",
    "    return np.asarray(x), np.asarray(y)\n",
    "\n",
    "Xsp, Ysp = get_train_data_sparse(text, 2)\n",
    "\n",
    "def forward_pass_sp(model, input):\n",
    "    state = {}\n",
    "\n",
    "    state[\"first_layer\"] = model[\"w1\"][input]\n",
    "    state[\"second_layer\"] = state[\"first_layer\"] @ model[\"w2\"]\n",
    "    state[\"z\"] = softmax(state[\"second_layer\"])\n",
    "    return state\n",
    "\n",
    "print(forward_pass_sp(model, Xsp)[\"z\"].shape)"
   ]
  },
  {
   "cell_type": "markdown",
   "id": "718becae-cc1f-4e67-a248-cbe9c7499c49",
   "metadata": {},
   "source": [
    "Derivació de backpropagation:\n",
    "\n",
    "Tenim $L = -\\sum_i y_ilog(y_{pred,i})$\n",
    "\n",
    "$\\frac{\\partial L}{\\partial a_{2,j}} = \\sum_i \\frac{\\partial L}{\\partial y_{pred,i}}·\\frac{\\partial y_{pred,i}}{\\partial a_{2,j}}$\n",
    "\n",
    "Ara, $\\frac{\\partial L}{\\partial y_{pred,i}} = -\\frac{y_{true,i}}{y_{pred,i}}$\n",
    "\n",
    "$\\frac{\\partial y_{pred,i}}{\\partial a_{2,j}} = y_{pred,j} - y_{pred,j}^2 = y_{pred,j}(1-y_{pred,j})$ si $i=j$\n",
    "\n",
    "$\\frac{\\partial y_{pred,i}}{\\partial a_{2,j}} = -y_{pred,i}·y_{pred,j}$ si $i \\neq j$\n",
    "\n",
    "Per tant, ajuntant-ho tot obtenim:\n",
    "\n",
    "$\\frac{\\partial L}{\\partial a_{2,j}} = \\sum_i \\frac{\\partial L}{\\partial y_{pred,i}}·\\frac{\\partial y_{pred,i}}{\\partial a_{2,j}} = -y_{true,j}(1-y_{pred,j}) + \\sum_{i \\neq j}-y_{true,i}·y_{pred,j} = -y_{true,j}(1-y_{pred,j}) - y_{pred,j}(y_{true,j}-1) = y_{pred,j} - y_{true,j}$ \n",
    "\n",
    "La simplificació del sumatori ve donada al veure que el vector resultant és un vector amb el negatiu dels valors predeits a les posicions que no es corresponen amb el target actual i un 0 a la posició del target actual. Finalment, tenim que:\n",
    "$\\frac{\\partial L}{\\partial a_2} = y_{pred} - y_{true}$\n",
    "\n",
    "Ara, aplicant la regla de la cadena:\n",
    "\n",
    "$\\frac{\\partial L}{\\partial W_2} = \\frac{\\partial L}{\\partial a_2}·\\frac{\\partial a_2}{\\partial W_2} = a_1^T·(y_{pred} - y_{true})$\n",
    "\n",
    "$\\frac{\\partial L}{\\partial a_1} = \\frac{\\partial L}{\\partial a_2}·\\frac{\\partial a_2}{\\partial a_1} = (y_{pred} - y_{true})·W_2^T$\n",
    "\n",
    "$\\frac{\\partial L}{\\partial W_1} = \\frac{\\partial L}{\\partial a_1}·\\frac{\\partial a_1}{\\partial W_1} =  X^T·(y_{pred} - y_{true})·W_2^T$"
   ]
  },
  {
   "cell_type": "code",
   "execution_count": 5,
   "id": "dd775a40-816d-40cf-a286-2413267b8dbd",
   "metadata": {},
   "outputs": [],
   "source": [
    "# Backpropagation\n",
    "def cross_entropy(pred, target):\n",
    "    epsilon = 1e-12\n",
    "    pred = np.clip(pred, epsilon, 1. - epsilon)\n",
    "    target_probs = pred[np.arange(len(target)), target]\n",
    "    \n",
    "    return - np.sum(np.log(target_probs))\n",
    "\n",
    "def backpropagation(model, input, target, learning_rate):\n",
    "    state = forward_pass_sp(model, input)\n",
    "    da2 = np.zeros_like(state[\"z\"])\n",
    "    np.copyto(da2, state[\"z\"])\n",
    "    da2[np.arange(da2.shape[0]), target] -= 1\n",
    "    dw2 = state[\"first_layer\"].T @ da2\n",
    "    da1 = da2 @ model[\"w2\"].T\n",
    "    dw1 = np.zeros_like(model[\"w1\"])\n",
    "    np.add.at(dw1, input, da1)\n",
    "    model[\"w1\"] -= learning_rate * dw1\n",
    "    model[\"w2\"] -= learning_rate * dw2\n",
    "    return cross_entropy(state[\"z\"], target)\n",
    "\n",
    "# Backpropagation\n",
    "def cross_entropy_reg(pred, target):\n",
    "    epsilon = 1e-12 \n",
    "    pred = np.clip(pred, epsilon, 1. - epsilon)\n",
    "    return - np.sum(target * np.log(pred))\n",
    "\n",
    "def backpropagation_reg(model, input, target, learning_rate):\n",
    "    state = forward_pass(model, input)\n",
    "    da2 = state[\"z\"] - target\n",
    "    dw2 = state[\"first_layer\"].T @ da2\n",
    "    da1 = da2 @ model[\"w2\"].T\n",
    "    dw1 = input.T @ da1\n",
    "    model[\"w1\"] -= learning_rate * dw1\n",
    "    model[\"w2\"] -= learning_rate * dw2\n",
    "    return cross_entropy_reg(state[\"z\"], target)"
   ]
  },
  {
   "cell_type": "code",
   "execution_count": 6,
   "id": "761712db-aeea-4532-a81b-d4fa3a2d0ddb",
   "metadata": {},
   "outputs": [
    {
     "name": "stdout",
     "output_type": "stream",
     "text": [
      "Iteration 0: Loss = 44435.25692483813\n",
      "Iteration 1000: Loss = 16245.661276801979\n",
      "Iteration 2000: Loss = 13409.47068058822\n",
      "Iteration 3000: Loss = 12145.46049927632\n",
      "Iteration 4000: Loss = 11387.10538973472\n",
      "Iteration 5000: Loss = 10879.212336158806\n",
      "Iteration 6000: Loss = 10514.350861308087\n",
      "Iteration 7000: Loss = 10240.269470656263\n",
      "Iteration 8000: Loss = 10027.119368224568\n",
      "Iteration 9000: Loss = 9856.572617766467\n",
      "Training time: 327.28134393692017\n"
     ]
    },
    {
     "data": {
      "image/png": "[encoded data removed]",
      "text/plain": [
       "<Figure size 640x480 with 1 Axes>"
      ]
     },
     "metadata": {},
     "output_type": "display_data"
    },
    {
     "name": "stdout",
     "output_type": "stream",
     "text": [
      "Final Loss: 9717.787897493286\n"
     ]
    }
   ],
   "source": [
    "import matplotlib.pyplot as plt\n",
    "import time\n",
    "\n",
    "n_iter = 10000\n",
    "learning_rate = 0.0001\n",
    "losses = []\n",
    "\n",
    "start_time = time.time()\n",
    "# Actualitzat per utilitzar la versió speedup\n",
    "for i in range(n_iter):\n",
    "    loss = backpropagation(model, Xsp, Ysp, learning_rate)\n",
    "    losses.append(loss)\n",
    "    if i % 1000 == 0:\n",
    "        print(f\"Iteration {i}: Loss = {loss}\")\n",
    "        \n",
    "print(f\"Training time: {time.time() - start_time}\")\n",
    "plt.plot(range(len(losses)), losses)\n",
    "plt.xlabel('Iteration')\n",
    "plt.ylabel('Loss')\n",
    "plt.title('Training Loss over Iterations')\n",
    "plt.show()\n",
    "\n",
    "print(f\"Final Loss: {losses[-1]}\")"
   ]
  },
  {
   "cell_type": "markdown",
   "id": "85884958",
   "metadata": {},
   "source": [
    "Podem utilitzar el cosine similarity per veure que tan aprop es troben dos vectors. Aquest algorisme de similitud mesura el cosinus de l'angle entre els vectors utilitzant el producte escalar. Per tant, no té en compte ni la magnitud dels vectors ni la topologia de la varietat local en la que ens trobem."
   ]
  },
  {
   "cell_type": "code",
   "execution_count": 7,
   "id": "86826fee-8a91-49be-a67d-4da7db1c8de8",
   "metadata": {},
   "outputs": [
    {
     "name": "stdout",
     "output_type": "stream",
     "text": [
      "[ 0.30288307  0.24403248 -0.37616754 -1.01481083  0.17823361 -0.74274018\n",
      " -1.91271761  0.27114117  0.46014727 -0.89870668  0.30999552  0.6066416\n",
      "  0.97846162 -1.41175129  0.29335608  0.13713478 -0.25961066 -1.37768418\n",
      "  0.09075525  1.77192149]\n",
      "[-0.29656142 -0.07607868 -1.0128667  -0.84245082  0.54586823  0.43067756\n",
      " -2.87423222  1.30486508  0.01017038  0.2943407  -1.45779697  1.23971644\n",
      "  1.55818532 -0.00542836 -0.13126905  0.99757798  0.45560644 -0.05887603\n",
      "  0.44354699  1.0757689 ]\n",
      "[ 0.87329128 -1.04631871 -0.71917328  1.0904986   0.03649463  0.55999513\n",
      " -0.28664229  0.40356011 -0.42188998 -0.85403237  1.26766485 -1.62771089\n",
      "  1.7581086   0.57155447 -0.65159194  1.27174316 -0.00828512 -0.29648103\n",
      " -0.61343505 -0.03310496]\n",
      "Similitud entre lamine i yamal:  0.5764180045417071\n",
      "Similitud entre lamine i principis:  0.038889428646896824\n"
     ]
    }
   ],
   "source": [
    "def get_skipgram_embedding(model, word):\n",
    "    vec = one_hot_encode(token_to_idx[word], len(token_to_idx))\n",
    "    return vec @ model[\"w1\"] \n",
    "\n",
    "lamine_embedding = get_skipgram_embedding(model, \"lamine\")\n",
    "yamal_embedding = get_skipgram_embedding(model, \"yamal\")\n",
    "principis_embedding = get_skipgram_embedding(model, \"principis\")\n",
    "\n",
    "# Cosine similarity com a aproximació per veure la similitud entre els vectors\n",
    "def cosine_similarity(a, b):\n",
    "    dot_product = np.dot(a, b)\n",
    "    norm_a = np.linalg.norm(a)\n",
    "    norm_b = np.linalg.norm(b)\n",
    "    return dot_product / (norm_a * norm_b)\n",
    "\n",
    "print(lamine_embedding)\n",
    "print(yamal_embedding)\n",
    "print(principis_embedding)\n",
    "\n",
    "print(\"Similitud entre lamine i yamal: \", cosine_similarity(lamine_embedding, yamal_embedding))\n",
    "print(\"Similitud entre lamine i principis: \", cosine_similarity(lamine_embedding, principis_embedding))"
   ]
  },
  {
   "cell_type": "code",
   "execution_count": 8,
   "id": "1a230eee-a919-479b-848f-ee287278c1c3",
   "metadata": {},
   "outputs": [
    {
     "name": "stdout",
     "output_type": "stream",
     "text": [
      "Les 5 paraules més probables d'estar en el context de yamal son:  ['lamine', 'va', 'ser', 'que', 'renovava']\n"
     ]
    }
   ],
   "source": [
    "yamal = one_hot_encode(token_to_idx[\"yamal\"], len(token_to_idx))\n",
    "result = forward_pass(model, [yamal])\n",
    "result = result[\"z\"]\n",
    "words = []\n",
    "for word in (idx_to_token[id] for id in np.argsort(result)[::-1][0]):\n",
    "    words.append(word)\n",
    "\n",
    "print(\"Les 5 paraules més probables d'estar en el context de yamal son: \", words[::-1][:5])"
   ]
  },
  {
   "cell_type": "markdown",
   "id": "bc80882b-4d35-413b-9cfe-5326b9a17d18",
   "metadata": {},
   "source": [
    "<h3>Negative sampling</h3>"
   ]
  },
  {
   "cell_type": "code",
   "execution_count": 9,
   "id": "58ee49c4-2ba1-4e63-9eb8-cf35b2c84e09",
   "metadata": {},
   "outputs": [
    {
     "name": "stdout",
     "output_type": "stream",
     "text": [
      "(8,)\n",
      "(8,)\n",
      "(8, 5)\n",
      "(3386,)\n",
      "(3386,)\n",
      "(8, 5)\n"
     ]
    }
   ],
   "source": [
    "K = 5\n",
    "window_size = 2\n",
    "\n",
    "def get_train_data_n(text, window_size, K, vocab_size):\n",
    "    data = encode(text)\n",
    "    x = []\n",
    "    y = []\n",
    "    negative_y = []\n",
    "    for i in range(len(data)):\n",
    "        for j in range(1, window_size+1):\n",
    "            if i - j >= 0:\n",
    "                x.append(data[i])\n",
    "                y.append(data[i - j])\n",
    "                negative_y.append([np.random.randint(vocab_size) for _ in range(K)])\n",
    "            if i + j < len(data):\n",
    "                x.append(data[i])\n",
    "                y.append(data[i + j])\n",
    "                negative_y.append([np.random.randint(vocab_size) for _ in range(K)])\n",
    "        \n",
    "    return np.asarray(x), np.asarray(y), np.asarray(negative_y)\n",
    "\n",
    "def get_negative_sampling(text, window_size, K , vocab_size, total_outside):\n",
    "    data = encode(text)\n",
    "    num_samples = 2 * (len(data) * window_size - total_outside) # Aquest número és equivalent al número d'iteracions que fem en el mètode get_train_data_n\n",
    "    negative_y = np.random.randint(low=0, high=vocab_size, size=(num_samples, K))\n",
    "    \n",
    "    return negative_y\n",
    "\n",
    "def get_batch(text, window_size, K, vocab_size, batch_size):\n",
    "    data = np.asarray(encode(text))\n",
    "    ix = np.random.randint(0, len(data) - window_size, batch_size)\n",
    "    context_range = np.concatenate((np.arange(-window_size, 0), np.arange(1, window_size + 1)))\n",
    "    ix_context = ix[:, None] + context_range[None, :]\n",
    "    x = np.repeat(data[ix], 2 * window_size)\n",
    "    y = data[ix_context].flatten()\n",
    "    num_samples = batch_size * window_size * 2\n",
    "    negative_y = np.random.randint(low=0, high=vocab_size, size=(num_samples, K))\n",
    "\n",
    "    return x, y, negative_y\n",
    "\n",
    "Xn, Yn, negative_y = get_train_data_n(text, window_size, K, vocab_size)\n",
    "total_outside = sum([i for i in range(window_size+1)])\n",
    "negative_y = get_negative_sampling(text, window_size, K, vocab_size, total_outside)\n",
    "x, y, negative_y = get_batch(text, window_size, K, vocab_size, 2)\n",
    "print(x.shape)\n",
    "print(y.shape)\n",
    "print(negative_y.shape)\n",
    "print(Xn.shape)\n",
    "print(Yn.shape)\n",
    "print(negative_y.shape)"
   ]
  },
  {
   "cell_type": "markdown",
   "id": "632184a4",
   "metadata": {},
   "source": [
    "Per fer la implementació del negative sampling, el més important és modificar el softmax per a que només tinguin probabilitats el target i els negative samples (el target hauria de tenir una probabilitat propera a 1, i els negative samples, a 0). D'aquesta manera, en la backpropagation, només s'actualitzaran els pesos associats a aquests samples, i softmax serà molt més eficient. Per aconseguir-ho, fem servir una màscara."
   ]
  },
  {
   "cell_type": "code",
   "execution_count": 10,
   "id": "d3c6549b-fd92-43c4-883a-889aa24784f6",
   "metadata": {},
   "outputs": [
    {
     "name": "stdout",
     "output_type": "stream",
     "text": [
      "(8, 274)\n"
     ]
    }
   ],
   "source": [
    "def softmax_n(X, targets):\n",
    "    # Masked softmax for negative sampling\n",
    "    mask = np.zeros_like(X, dtype=bool)\n",
    "    mask[np.arange(X.shape[0])[:, None], targets] = True\n",
    "    \n",
    "    X_masked = np.where(mask, X, -np.inf)\n",
    "    X_max = np.max(X_masked, axis=1, keepdims=True)\n",
    "    exps = np.exp(X_masked - X_max)\n",
    "    sum_exps = np.sum(exps, axis=1, keepdims=True)\n",
    "    softmax_values = exps / sum_exps\n",
    "    \n",
    "    return np.where(mask, softmax_values, 0)\n",
    "\n",
    "def forward_pass_n(model, input, target, negative_target):\n",
    "    state = {}\n",
    "\n",
    "    state[\"first_layer\"] = model[\"w1\"][input]\n",
    "    state[\"second_layer\"] = state[\"first_layer\"] @ model[\"w2\"]\n",
    "    # Sha de passar un X reduit per fer el negative sampling (només amb el positive sampling i els K exemples de més per banda)\n",
    "    state[\"z\"] = softmax_n(state[\"second_layer\"], np.column_stack((target, negative_target)))\n",
    "    return state\n",
    "\n",
    "def cross_entropy_negative(pred, target):\n",
    "    epsilon = 1e-12\n",
    "    pred = np.clip(pred, epsilon, 1. - epsilon)\n",
    "    target_probs = pred[np.arange(len(target)), target]\n",
    "    \n",
    "    return - np.sum(np.log(target_probs))\n",
    "\n",
    "def backpropagation_negative(model, input, target, negative_target, learning_rate):\n",
    "    state = forward_pass_n(model, input, target, negative_target)\n",
    "    da2 = np.zeros_like(state[\"z\"])\n",
    "    np.copyto(da2, state[\"z\"])\n",
    "    da2[np.arange(da2.shape[0]), target] -= 1\n",
    "    dw2 = state[\"first_layer\"].T @ da2\n",
    "    da1 = da2 @ model[\"w2\"].T\n",
    "    dw1 = np.zeros_like(model[\"w1\"])\n",
    "    np.add.at(dw1, input, da1)\n",
    "    model[\"w1\"] -= learning_rate * dw1\n",
    "    model[\"w2\"] -= learning_rate * dw2\n",
    "    return cross_entropy_negative(state[\"z\"], target)\n",
    "    \n",
    "model2 = initialitze_model(20)\n",
    "state = forward_pass_n(model2, x, y, negative_y)\n",
    "print(state[\"z\"].shape)"
   ]
  },
  {
   "cell_type": "code",
   "execution_count": 24,
   "id": "6b447e7d-b699-457d-beb8-248de6b1efc4",
   "metadata": {},
   "outputs": [
    {
     "name": "stdout",
     "output_type": "stream",
     "text": [
      "Iteration 0: Loss = 158.69969464268905\n",
      "Iteration 1000: Loss = 154.70245682092002\n",
      "Iteration 2000: Loss = 160.48206393879272\n",
      "Iteration 3000: Loss = 137.62866633573674\n",
      "Iteration 4000: Loss = 164.78065375190647\n",
      "Iteration 5000: Loss = 142.161653073944\n",
      "Iteration 6000: Loss = 159.863142932254\n",
      "Iteration 7000: Loss = 125.65596308773493\n",
      "Iteration 8000: Loss = 141.65800225889828\n",
      "Iteration 9000: Loss = 126.25026480105066\n",
      "Training time: 17.863486766815186\n"
     ]
    },
    {
     "data": {
      "image/png": "[encoded data removed]",
      "text/plain": [
       "<Figure size 640x480 with 1 Axes>"
      ]
     },
     "metadata": {},
     "output_type": "display_data"
    },
    {
     "name": "stdout",
     "output_type": "stream",
     "text": [
      "Final Loss: 143.8285307290292\n"
     ]
    }
   ],
   "source": [
    "import matplotlib.pyplot as plt\n",
    "import time\n",
    "\n",
    "n_iter = 50000\n",
    "learning_rate = 0.0001\n",
    "losses = []\n",
    "batch_size = 32\n",
    "\n",
    "start_time = time.time()\n",
    "# Actualitzat per utilitzar la versió speedup\n",
    "for i in range(n_iter):\n",
    "    Xn, Yn, negative_y = get_batch(text, window_size, K, vocab_size, batch_size)\n",
    "    loss = backpropagation_negative(model2, Xn, Yn, negative_y, learning_rate)\n",
    "    losses.append(loss)\n",
    "    if i % 1000 == 0:\n",
    "        print(f\"Iteration {i}: Loss = {loss}\")\n",
    "        \n",
    "print(f\"Training time: {time.time() - start_time}\")\n",
    "plt.plot(range(len(losses)), losses)\n",
    "plt.xlabel('Iteration')\n",
    "plt.ylabel('Loss')\n",
    "plt.title('Training Loss over Iterations')\n",
    "plt.show()\n",
    "\n",
    "print(f\"Final Loss: {losses[-1]}\")"
   ]
  },
  {
   "cell_type": "code",
   "execution_count": 25,
   "id": "d01a2f26-9e5c-4e00-911e-1568c546f04c",
   "metadata": {},
   "outputs": [
    {
     "name": "stdout",
     "output_type": "stream",
     "text": [
      "[-0.32303698 -0.04040785  0.08125077 -0.98201132 -0.00545777  0.54958606\n",
      "  0.40811405 -0.22559902 -0.40093403 -0.73167852  0.48671724  0.30723232\n",
      "  0.89180084 -0.50946227 -0.36765636 -0.15637494  0.23725723 -0.41512356\n",
      " -0.58342228 -0.54633403]\n",
      "[-1.06521125 -0.58739329  0.22890448 -0.39399509  0.06793186 -0.84692275\n",
      " -0.67732799 -1.03459535  0.25783169  0.28793924 -0.55466028  0.85215598\n",
      "  0.91712398 -0.81452459 -0.36601257 -0.72746808 -0.08511067 -0.64601709\n",
      " -0.12456471 -0.01849235]\n",
      "[ 1.13676721  1.33764132  0.51841377  0.4303301  -2.66933154 -0.68045344\n",
      "  0.65430682 -0.44631946  0.66139231  0.50738539 -0.39108737 -0.47661155\n",
      "  0.2111731  -1.48414654 -1.22625946  2.00687958  1.15819697 -0.22126364\n",
      "  1.24996214 -1.14505898]\n",
      "Similitud entre lamine i yamal:  0.29086195067717857\n",
      "Similitud entre lamine i principis:  -0.03902632097883464\n"
     ]
    }
   ],
   "source": [
    "lamine_embedding = get_skipgram_embedding(model2, \"lamine\")\n",
    "yamal_embedding = get_skipgram_embedding(model2, \"yamal\")\n",
    "principis_embedding = get_skipgram_embedding(model2, \"principis\")\n",
    "\n",
    "# Cosine similarity com a aproximació per veure la similitud entre els vectors\n",
    "def cosine_similarity(a, b):\n",
    "    dot_product = np.dot(a, b)\n",
    "    norm_a = np.linalg.norm(a)\n",
    "    norm_b = np.linalg.norm(b)\n",
    "    return dot_product / (norm_a * norm_b)\n",
    "\n",
    "print(lamine_embedding)\n",
    "print(yamal_embedding)\n",
    "print(principis_embedding)\n",
    "\n",
    "print(\"Similitud entre lamine i yamal: \", cosine_similarity(lamine_embedding, yamal_embedding))\n",
    "print(\"Similitud entre lamine i principis: \", cosine_similarity(lamine_embedding, principis_embedding))"
   ]
  },
  {
   "cell_type": "code",
   "execution_count": 26,
   "id": "b1c22978-43a1-41d2-b5f4-651f321f20c6",
   "metadata": {},
   "outputs": [
    {
     "name": "stdout",
     "output_type": "stream",
     "text": [
      "Les 5 paraules més probables d'estar en el context de yamal son:  ['va', 'yamal', 'a', 'de', 'deuros']\n"
     ]
    }
   ],
   "source": [
    "yamal = one_hot_encode(token_to_idx[\"lamine\"], len(token_to_idx))\n",
    "result = forward_pass(model2, [yamal])\n",
    "result = result[\"z\"]\n",
    "words = []\n",
    "for word in (idx_to_token[id] for id in np.argsort(result)[::-1][0]):\n",
    "    words.append(word)\n",
    "\n",
    "print(\"Les 5 paraules més probables d'estar en el context de yamal son: \", words[::-1][:5])"
   ]
  },
  {
   "cell_type": "code",
   "execution_count": null,
   "id": "fe44f6e3",
   "metadata": {},
   "outputs": [],
   "source": []
  }
 ],
 "metadata": {
  "kernelspec": {
   "display_name": "Python 3 (ipykernel)",
   "language": "python",
   "name": "python3"
  },
  "language_info": {
   "codemirror_mode": {
    "name": "ipython",
    "version": 3
   },
   "file_extension": ".py",
   "mimetype": "text/x-python",
   "name": "python",
   "nbconvert_exporter": "python",
   "pygments_lexer": "ipython3",
   "version": "3.10.8"
  }
 },
 "nbformat": 4,
 "nbformat_minor": 5
}
