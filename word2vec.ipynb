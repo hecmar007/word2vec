{
 "cells": [
  {
   "cell_type": "markdown",
   "id": "3ffb9ddb-ed51-4400-8d7a-01d75f8ff7b9",
   "metadata": {},
   "source": [
    "Part I: skip-gram"
   ]
  },
  {
   "cell_type": "code",
   "execution_count": 168,
   "id": "62a3c657-9445-41ad-b2db-f196c66ee153",
   "metadata": {},
   "outputs": [
    {
     "name": "stdout",
     "output_type": "stream",
     "text": [
      "lamine yamal va arribar amb 7 anys al planter de la masia procedent del petit club cf la torreta aviat va ser considerat una de les millors promeses de lacadèmia encara que va ser inclòs en lequip juvenil a ja per sobre de la seva edat per a la temporada 202223 va ser seleccionat per xavi per entrenar amb el primer equip amb altres joves a principis de setembre del 2022 malgrat que encara no ha signat el seu primer contracte professional amb el club lamine yamal sembla ser un dels membres del planter que més ha impressionat el tècnic català va debutar amb el primer equip el 29 dabril del 2023 substituint gavi al minut 83 en la victòria per 40 contra el reial betis a la lliga convertintse en el jugador més jove en debutar amb el primer equip del fc barcelona amb 15 anys 9 mesos i 16 dies el 14 de maig del 2023 va guanyar el seu primer títol amb el barça ja que va formar part de la plantilla que va guanyar la lliga 202223 lamine yamal va ser titular per primera vegada amb el club el 20 dagost del 2023 en una victòria per 20 contra el cadis a lestadi olímpic lluís companys convertintse en el titular més jove del barcelona a la lliga amb 16 anys i 38 dies la seva primera titularitat va ser rebuda amb una gran ovació per part de lafició quan va ser substituït mancant cinc minuts per al final del partit en la seva següent aparició com a titular lamine yamal va ser nomenat home del partit després de contribuir als dos gols marcats per gavi i robert lewandowski en la victòria per 43 davant el vilareal cf el 28 dagost de 2023 amb 16 anys i 45 dies es va convertir en el jugador més jove a donar una assistència en un partit de lliga uns dies més tard es convertiria amb el jugador més jove del barça a debutar a la lliga de campions amb 16 anys i 68 dies superant el registre de vicky lópez 16 anys i 148 dies el 2 doctubre el fc barcelona anunciava que lamine yamal renovava el seu contracte fins al 2026 amb una clàusula de rescissió de 1000 milions deuros dos dies després va ser titular al seu primer partit de la lliga de campions contra el porto convertintse en el jugador més jove en una alineació titular amb 16 anys i 83 dies lamine yamal era tres dies més jove que celestine babayaro que va establir el rècord el 1994 el 8 doctubre del 2023 lamine va marcar el seu primer gol amb el primer equip en un empat a domicili contra el granada 22 es va convertir en el golejador més jove del barcelona i en el més jove de la història a marcar a la lliga amb 16 anys i 87 dies batent tots dos rècords establerts per ansu fati i fabrice olinga respectivament el 28 doctubre de 2023 lamine va fer la seva primera aparició a el clàssic com a suplent en una derrota per 21 a casa convertintse en el jugador més jove en ser titular amb el barcelona des dansu fati i batent el rècord de vicenç martínez el 1941 el 4 de desembre de 2023 lamine va rebre el trofeu inaugural golden boy the youngest que es concedeix al jugador més jove nominat per al premi golden boy posteriorment el dia de la cerimònia lamine no va estar present a causa dels seus estudis l11 de gener del 2024 lamine va marcar contra losasuna a la victòria per 20 del barcelona a la semifinal de la supercopa despanya es va convertir en el jugador més jove amb 16 anys i 182 dies a marcar a la supercopa lamine va jugar els últims 29 minuts de la final de la supercopa despanya contra el reial madrid el 14 de gener de 2024 es va convertir en el jugador més jove a marcar a la copa del rei després de marcar al minut 32 contra lathletic club en una eventual derrota per 42 a quarts de final l11 de febrer de 2024 lamine va marcar dos gols en lempat a 33 contra el granada cf i va ser triat millor jugador del partit per tant es va convertir en el jugador més jove de la lliga en marcar un doblet batent el rècord anterior de bojan krkić el 2008 i el primer jugador a aconseguir aquest rècord amb menys de 17 anys també es va convertir en el jugador més jove en assolir més de 10 gols i assistir contribucions a la lliga amb 16 anys i 213 dies el 21 de febrer es va convertir en el jugador més jove a jugar la fase eliminatòria de la lliga de campions amb 16 anys i 223 dies quan el barcelona va jugar contra la ssc napoli a la fase eliminatòria de la fase eliminatòria de la lliga de campions batent el rècord anterior del migcampista del paris saintgermain fc warren zaïreemery \n"
     ]
    }
   ],
   "source": [
    "import numpy as np\n",
    "import re\n",
    "\n",
    "text = '''Lamine Yamal, va arribar amb 7 anys al planter de La Masia, procedent del petit club CF la Torreta. Aviat va ser considerat una de les millors promeses de l'acadèmia.\n",
    "\n",
    "Encara que va ser inclòs en l'equip Juvenil A -ja per sobre de la seva edat- per a la temporada 2022-23, va ser seleccionat per Xavi per entrenar amb el primer equip amb altres joves a principis de setembre del 2022. Malgrat que encara no ha signat el seu primer contracte professional amb el club, Lamine Yamal sembla ser un dels membres del planter que més ha impressionat el tècnic català.\n",
    "\n",
    "Va debutar amb el primer equip el 29 d'abril del 2023, substituint Gavi al minut 83 en la victòria per 4-0 contra el Reial Betis a la Lliga, convertint-se en el jugador més jove en debutar amb el primer equip del FC Barcelona amb 15 anys, 9 mesos i 16 dies. El 14 de maig del 2023 va guanyar el seu primer títol amb el Barça, ja que va formar part de la plantilla que va guanyar la Lliga 2022-23.\n",
    "\n",
    "Lamine Yamal va ser titular per primera vegada amb el club el 20 d'agost del 2023 en una victòria per 2-0 contra el Cadis a l'Estadi Olímpic Lluís Companys, convertint-se en el titular més jove del Barcelona a la Lliga amb 16 anys i 38 dies. La seva primera titularitat va ser rebuda amb una gran ovació per part de l'afició quan va ser substituït mancant cinc minuts per al final del partit. En la seva següent aparició com a titular, Lamine Yamal va ser nomenat home del partit després de contribuir als dos gols marcats per Gavi i Robert Lewandowski en la victòria per 4-3 davant el Vila-real CF el 28 d'agost de 2023. Amb 16 anys i 45 dies, es va convertir en el jugador més jove a donar una assistència en un partit de Lliga. Uns dies més tard, es convertiria amb el jugador més jove del Barça a debutar a la Lliga de Campions amb 16 anys i 68 dies, superant el registre de Vicky López (16 anys i 148 dies).\n",
    "\n",
    "El 2 d'octubre, el FC Barcelona anunciava que Lamine Yamal renovava el seu contracte fins al 2026, amb una clàusula de rescissió de 1.000 milions d'euros. Dos dies després, va ser titular al seu primer partit de la Lliga de Campions contra el Porto, convertint-se en el jugador més jove en una alineació titular amb 16 anys i 83 dies. Lamine Yamal era tres dies més jove que Celestine Babayaro, que va establir el rècord el 1994. El 8 d'octubre del 2023, Lamine va marcar el seu primer gol amb el primer equip en un empat a domicili contra el Granada (2-2). Es va convertir en el golejador més jove del Barcelona i en el més jove de la història a marcar a la Lliga, amb 16 anys i 87 dies, batent tots dos rècords establerts per Ansu Fati i Fabrice Olinga respectivament. El 28 d'octubre de 2023, Lamine va fer la seva primera aparició a El Clàssic com a suplent en una derrota per 2-1 a casa, convertint-se en el jugador més jove en ser titular amb el Barcelona des d'Ansu Fati i batent el rècord de Vicenç Martínez el 1941.\n",
    "\n",
    "El 4 de desembre de 2023, Lamine va rebre el trofeu inaugural Golden Boy The Youngest, que es concedeix al jugador més jove nominat per al premi Golden Boy. Posteriorment, el dia de la cerimònia, Lamine no va estar present a causa dels seus estudis.\n",
    "\n",
    "L'11 de gener del 2024, Lamine va marcar contra l'Osasuna a la victòria per 2-0 del Barcelona a la semifinal de la Supercopa d'Espanya. Es va convertir en el jugador més jove, amb 16 anys i 182 dies, a marcar a la Supercopa. Lamine va jugar els últims 29 minuts de la final de la Supercopa d'Espanya contra el Reial Madrid el 14 de gener de 2024. Es va convertir en el jugador més jove a marcar a la Copa del Rei després de marcar al minut 32 contra l'Athletic Club en una eventual derrota per 4-2 a quarts de final.\n",
    "\n",
    "L'11 de febrer de 2024, Lamine va marcar dos gols en l'empat a 3-3 contra el Granada CF i va ser triat millor jugador del partit. Per tant, es va convertir en el jugador més jove de la Lliga en marcar un doblet, batent el rècord anterior de Bojan Krkić el 2008, i el primer jugador a aconseguir aquest rècord amb menys de 17 anys. També es va convertir en el jugador més jove en assolir més de 10 gols i assistir contribucions a la Lliga amb 16 anys i 213 dies. El 21 de febrer es va convertir en el jugador més jove a jugar la fase eliminatòria de la Lliga de Campions, amb 16 anys i 223 dies, quan el Barcelona va jugar contra la SSC Napoli a la fase eliminatòria de la Fase eliminatòria de la Lliga de Campions, batent el rècord anterior del migcampista del Paris Saint-Germain FC Warren Zaïre-Emery.'''\n",
    "\n",
    "# Pre-processament del text per obtenir el nostre vocabulari (tokenitzacio)\n",
    "text = re.sub(r'[^\\w\\s]', '', text)\n",
    "text = text.lower()\n",
    "words = sorted(list(set(text.split())))\n",
    "vocab_size = len(words)\n",
    "\n",
    "token_to_idx = {}\n",
    "idx_to_token = {}\n",
    "\n",
    "for i, token in enumerate(words):\n",
    "    token_to_idx[token] = i\n",
    "    idx_to_token[i] = token\n",
    "\n",
    "encode = lambda s: [token_to_idx[c] for c in s.split()]\n",
    "decode = lambda l: ''.join([idx_to_token[i]+ \" \" for i in l])\n",
    "\n",
    "\n",
    "print(decode(encode(text)))"
   ]
  },
  {
   "cell_type": "code",
   "execution_count": 169,
   "id": "937744a4-44fc-43d5-a6f8-8972023bae84",
   "metadata": {},
   "outputs": [
    {
     "name": "stdout",
     "output_type": "stream",
     "text": [
      "(3386, 274)\n",
      "(3386, 274)\n"
     ]
    }
   ],
   "source": [
    "def one_hot_encode(token, size):\n",
    "    vec = np.zeros(size)\n",
    "    vec[token] = 1\n",
    "    return vec\n",
    "\n",
    "# Obtenim les dades preparades per entrenar\n",
    "# Retorna la llista x, el token actual, i la llista y, el context\n",
    "def get_train_data(text, window_size):\n",
    "    data = encode(text)\n",
    "    x = []\n",
    "    y = []\n",
    "    for i in range(len(data)):\n",
    "        for j in range(1, window_size+1):\n",
    "            if i - j >= 0:\n",
    "                x.append(one_hot_encode(data[i], vocab_size))\n",
    "                y.append(one_hot_encode(data[i - j], vocab_size))\n",
    "            if i + j < len(data):\n",
    "                x.append(one_hot_encode(data[i], vocab_size))\n",
    "                y.append(one_hot_encode(data[i + j], vocab_size))\n",
    "    return np.asarray(x), np.asarray(y)\n",
    "\n",
    "X, Y = get_train_data(text, 2)\n",
    "print(X.shape)\n",
    "print(Y.shape)\n"
   ]
  },
  {
   "cell_type": "code",
   "execution_count": 170,
   "id": "0695d7e4-dc3d-4d46-ae9f-d784c22d0203",
   "metadata": {},
   "outputs": [
    {
     "name": "stdout",
     "output_type": "stream",
     "text": [
      "274\n"
     ]
    }
   ],
   "source": [
    "# Inicalitzem el model\n",
    "def initialitze_model(n_embd):\n",
    "    model = {\n",
    "        \"w1\": np.random.randn(vocab_size, n_embd),\n",
    "        \"w2\": np.random.randn(n_embd, vocab_size)\n",
    "    }\n",
    "    return model\n",
    "\n",
    "def softmax(X):\n",
    "    exps = np.exp(X - np.max(X, axis=-1, keepdims=True))\n",
    "    return exps / np.sum(exps, axis=-1, keepdims=True)\n",
    "\n",
    "def forward_pass(model, input):\n",
    "    state = {}\n",
    "    \n",
    "    state[\"first_layer\"] = input @ model[\"w1\"]\n",
    "    state[\"second_layer\"] = state[\"first_layer\"] @ model[\"w2\"]\n",
    "    state[\"z\"] = softmax(state[\"second_layer\"])\n",
    "    return state\n",
    "\n",
    "model = initialitze_model(20)\n",
    "print(len(forward_pass(model, X)[\"z\"][0]))"
   ]
  },
  {
   "cell_type": "markdown",
   "id": "7c20e7da-0b5e-4fbe-af31-a5ab58196fea",
   "metadata": {},
   "source": [
    "Seguint els apunts del David, implementació sparse per fer el forward_pass molt més eficient:"
   ]
  },
  {
   "cell_type": "code",
   "execution_count": 171,
   "id": "c7349107-7351-473c-8ef0-619d9d67afa5",
   "metadata": {},
   "outputs": [
    {
     "name": "stdout",
     "output_type": "stream",
     "text": [
      "(3386, 274)\n"
     ]
    }
   ],
   "source": [
    "def get_train_data_sparse(text, window_size):\n",
    "    data = encode(text)\n",
    "    x = []\n",
    "    y = []\n",
    "    for i in range(len(data)):\n",
    "        for j in range(1, window_size+1):\n",
    "            if i - j >= 0:\n",
    "                x.append(data[i])\n",
    "                y.append(data[i - j])\n",
    "            if i + j < len(data):\n",
    "                x.append(data[i])\n",
    "                y.append(data[i + j])\n",
    "    return np.asarray(x), np.asarray(y)\n",
    "\n",
    "Xsp, Ysp = get_train_data_sparse(text, 2)\n",
    "\n",
    "def forward_pass_sp(model, input):\n",
    "    state = {}\n",
    "\n",
    "    state[\"first_layer\"] = model[\"w1\"][input]\n",
    "    state[\"second_layer\"] = state[\"first_layer\"] @ model[\"w2\"]\n",
    "    state[\"z\"] = softmax(state[\"second_layer\"])\n",
    "    return state\n",
    "\n",
    "print(forward_pass_sp(model, Xsp)[\"z\"].shape)"
   ]
  },
  {
   "cell_type": "markdown",
   "id": "718becae-cc1f-4e67-a248-cbe9c7499c49",
   "metadata": {},
   "source": [
    "Derivació de backpropagation:\n",
    "\n",
    "Tenim $L = -\\sum_i y_ilog(y_{pred,i})$\n",
    "\n",
    "$\\frac{\\partial L}{\\partial a_{2,j}} = \\sum_i \\frac{\\partial L}{\\partial y_{pred,i}}·\\frac{\\partial y_{pred,i}}{\\partial a_{2,j}}$\n",
    "\n",
    "Ara, $\\frac{\\partial L}{\\partial y_{pred,i}} = -\\frac{y_{true,i}}{y_{pred,i}}$\n",
    "\n",
    "$\\frac{\\partial y_{pred,i}}{\\partial a_{2,j}} = y_{pred,j} - y_{pred,j}^2 = y_{pred,j}(1-y_{pred,j})$ si $i=j$\n",
    "\n",
    "$\\frac{\\partial y_{pred,i}}{\\partial a_{2,j}} = -y_{pred,i}·y_{pred,j}$ si $i \\neq j$\n",
    "\n",
    "Per tant, ajuntant-ho tot obtenim:\n",
    "\n",
    "$\\frac{\\partial L}{\\partial a_{2,j}} = \\sum_i \\frac{\\partial L}{\\partial y_{pred,i}}·\\frac{\\partial y_{pred,i}}{\\partial a_{2,j}} = -y_{true,j}(1-y_{pred,j}) + \\sum_{i \\neq j}-y_{true,i}·y_{pred,j} = -y_{true,j}(1-y_{pred,j}) - y_{pred,j}(y_{true,j}-1) = y_{pred,j} - y_{true,j}$ \n",
    "\n",
    "La simplificació del sumatori ve donada al veure que el vector resultant és un vector amb el negatiu dels valors predeits a les posicions que no es corresponen amb el target actual i un 0 a la posició del target actual. Finalment, tenim que:\n",
    "$\\frac{\\partial L}{\\partial a_2} = y_{pred} - y_{true}$\n",
    "\n",
    "Ara, aplicant la regla de la cadena:\n",
    "\n",
    "$\\frac{\\partial L}{\\partial W_2} = \\frac{\\partial L}{\\partial a_2}·\\frac{\\partial a_2}{\\partial W_2} = a_1^T·(y_{pred} - y_{true})$\n",
    "\n",
    "$\\frac{\\partial L}{\\partial a_1} = \\frac{\\partial L}{\\partial a_2}·\\frac{\\partial a_2}{\\partial a_1} = (y_{pred} - y_{true})·W_2^T$\n",
    "\n",
    "$\\frac{\\partial L}{\\partial W_1} = \\frac{\\partial L}{\\partial a_1}·\\frac{\\partial a_1}{\\partial W_1} =  X^T·(y_{pred} - y_{true})·W_2^T$"
   ]
  },
  {
   "cell_type": "code",
   "execution_count": 172,
   "id": "dd775a40-816d-40cf-a286-2413267b8dbd",
   "metadata": {},
   "outputs": [],
   "source": [
    "# Backpropagation\n",
    "def cross_entropy(pred, target):\n",
    "    epsilon = 1e-12\n",
    "    pred = np.clip(pred, epsilon, 1. - epsilon)\n",
    "    target_probs = pred[np.arange(len(target)), target]\n",
    "    \n",
    "    return - np.sum(np.log(target_probs))\n",
    "\n",
    "def backpropagation(model, input, target, learning_rate):\n",
    "    state = forward_pass_sp(model, input)\n",
    "    da2 = np.zeros_like(state[\"z\"])\n",
    "    np.copyto(da2, state[\"z\"])\n",
    "    da2[np.arange(da2.shape[0]), target] -= 1\n",
    "    dw2 = state[\"first_layer\"].T @ da2\n",
    "    da1 = da2 @ model[\"w2\"].T\n",
    "    dw1 = np.zeros_like(model[\"w1\"])\n",
    "    np.add.at(dw1, input, da1)\n",
    "    model[\"w1\"] -= learning_rate * dw1\n",
    "    model[\"w2\"] -= learning_rate * dw2\n",
    "    return cross_entropy(state[\"z\"], target)\n",
    "\n",
    "# Backpropagation\n",
    "def cross_entropy_reg(pred, target):\n",
    "    epsilon = 1e-12 \n",
    "    pred = np.clip(pred, epsilon, 1. - epsilon)\n",
    "    return - np.sum(target * np.log(pred))\n",
    "\n",
    "def backpropagation_reg(model, input, target, learning_rate):\n",
    "    state = forward_pass(model, input)\n",
    "    da2 = state[\"z\"] - target\n",
    "    dw2 = state[\"first_layer\"].T @ da2\n",
    "    da1 = da2 @ model[\"w2\"].T\n",
    "    dw1 = input.T @ da1\n",
    "    model[\"w1\"] -= learning_rate * dw1\n",
    "    model[\"w2\"] -= learning_rate * dw2\n",
    "    return cross_entropy_reg(state[\"z\"], target)"
   ]
  },
  {
   "cell_type": "code",
   "execution_count": 173,
   "id": "761712db-aeea-4532-a81b-d4fa3a2d0ddb",
   "metadata": {},
   "outputs": [
    {
     "name": "stdout",
     "output_type": "stream",
     "text": [
      "Iteration 0: Loss = 45321.341547211254\n",
      "Iteration 1000: Loss = 16201.576150268302\n",
      "Iteration 2000: Loss = 13396.006907206078\n",
      "Iteration 3000: Loss = 12144.414501975778\n",
      "Iteration 4000: Loss = 11399.589027516471\n",
      "Iteration 5000: Loss = 10894.317848701998\n",
      "Iteration 6000: Loss = 10535.253305530245\n",
      "Iteration 7000: Loss = 10272.458342841797\n",
      "Iteration 8000: Loss = 10071.971725883486\n",
      "Iteration 9000: Loss = 9913.579173098875\n",
      "Training time: 256.05962324142456\n"
     ]
    },
    {
     "data": {
      "image/png": "[encoded data removed]",
      "text/plain": [
       "<Figure size 640x480 with 1 Axes>"
      ]
     },
     "metadata": {},
     "output_type": "display_data"
    },
    {
     "name": "stdout",
     "output_type": "stream",
     "text": [
      "Final Loss: 9785.148947801019\n"
     ]
    }
   ],
   "source": [
    "import matplotlib.pyplot as plt\n",
    "import time\n",
    "\n",
    "n_iter = 10000\n",
    "learning_rate = 0.0001\n",
    "losses = []\n",
    "\n",
    "start_time = time.time()\n",
    "# Actualitzat per utilitzar la versió speedup\n",
    "for i in range(n_iter):\n",
    "    loss = backpropagation(model, Xsp, Ysp, learning_rate)\n",
    "    losses.append(loss)\n",
    "    if i % 1000 == 0:\n",
    "        print(f\"Iteration {i}: Loss = {loss}\")\n",
    "        \n",
    "print(f\"Training time: {time.time() - start_time}\")\n",
    "plt.plot(range(len(losses)), losses)\n",
    "plt.xlabel('Iteration')\n",
    "plt.ylabel('Loss')\n",
    "plt.title('Training Loss over Iterations')\n",
    "plt.show()\n",
    "\n",
    "print(f\"Final Loss: {losses[-1]}\")"
   ]
  },
  {
   "cell_type": "code",
   "execution_count": 174,
   "id": "86826fee-8a91-49be-a67d-4da7db1c8de8",
   "metadata": {},
   "outputs": [
    {
     "name": "stdout",
     "output_type": "stream",
     "text": [
      "[ 0.01347023 -0.04630581 -0.97856734  0.97297771  1.34251926  1.22252889\n",
      " -0.89703838 -2.32917591  0.31546995  0.24495978 -0.05263298 -0.53092636\n",
      " -0.3457173   0.25552464  0.96850323  1.44469639 -1.14014925  0.74649432\n",
      " -0.73189346 -0.53218194]\n",
      "[ 0.03009284 -1.017626   -0.32782196  0.42464313  0.77852343  1.2290444\n",
      " -1.26940284 -1.0834973  -0.09942309 -0.76470555  0.10133129  0.42141191\n",
      " -2.05107845  0.39290111  1.22315595  0.96480502 -0.90505394  0.39385281\n",
      " -0.45442555  0.49371976]\n",
      "[-0.23121805  0.39252456  0.68080201  0.50545091  1.01589431 -0.35584959\n",
      "  0.84499857 -0.7795351   1.41868342  0.59730283 -1.46161184 -0.76445415\n",
      "  0.76908938  2.33534863 -1.0752937  -1.2053288   0.85594358  0.705348\n",
      " -0.20566952 -1.5114142 ]\n",
      "Similitud entre lamine i yamal:  0.6888774909689438\n",
      "Similitud entre lamine i principis:  0.04802318093660641\n"
     ]
    }
   ],
   "source": [
    "def get_skipgram_embedding(model, word):\n",
    "    vec = one_hot_encode(token_to_idx[word], len(token_to_idx))\n",
    "    return vec @ model[\"w1\"] \n",
    "\n",
    "lamine_embedding = get_skipgram_embedding(model, \"lamine\")\n",
    "yamal_embedding = get_skipgram_embedding(model, \"yamal\")\n",
    "principis_embedding = get_skipgram_embedding(model, \"principis\")\n",
    "\n",
    "# Cosine similarity com a aproximació per veure la similitud entre els vectors\n",
    "def cosine_similarity(a, b):\n",
    "    dot_product = np.dot(a, b)\n",
    "    norm_a = np.linalg.norm(a)\n",
    "    norm_b = np.linalg.norm(b)\n",
    "    return dot_product / (norm_a * norm_b)\n",
    "\n",
    "print(lamine_embedding)\n",
    "print(yamal_embedding)\n",
    "print(principis_embedding)\n",
    "\n",
    "print(\"Similitud entre lamine i yamal: \", cosine_similarity(lamine_embedding, yamal_embedding))\n",
    "print(\"Similitud entre lamine i principis: \", cosine_similarity(lamine_embedding, principis_embedding))"
   ]
  },
  {
   "cell_type": "code",
   "execution_count": 175,
   "id": "1a230eee-a919-479b-848f-ee287278c1c3",
   "metadata": {},
   "outputs": [
    {
     "name": "stdout",
     "output_type": "stream",
     "text": [
      "Les 5 paraules més probables d'estar en el context de yamal son:  ['lamine', 'ser', 'va', 'dies', 'sembla']\n"
     ]
    }
   ],
   "source": [
    "yamal = one_hot_encode(token_to_idx[\"yamal\"], len(token_to_idx))\n",
    "result = forward_pass(model, [yamal])\n",
    "result = result[\"z\"]\n",
    "words = []\n",
    "for word in (idx_to_token[id] for id in np.argsort(result)[::-1][0]):\n",
    "    words.append(word)\n",
    "\n",
    "print(\"Les 5 paraules més probables d'estar en el context de yamal son: \", words[::-1][:5])"
   ]
  },
  {
   "cell_type": "markdown",
   "id": "bc80882b-4d35-413b-9cfe-5326b9a17d18",
   "metadata": {},
   "source": [
    "Negative sampling"
   ]
  },
  {
   "cell_type": "code",
   "execution_count": 176,
   "id": "58ee49c4-2ba1-4e63-9eb8-cf35b2c84e09",
   "metadata": {},
   "outputs": [
    {
     "name": "stdout",
     "output_type": "stream",
     "text": [
      "(3386,)\n",
      "(3386,)\n",
      "(3386, 10)\n"
     ]
    }
   ],
   "source": [
    "def get_train_data_negative(text, window_size, K, vocab_size):\n",
    "    data = encode(text)\n",
    "    x = []\n",
    "    y = []\n",
    "    negative_y = []\n",
    "    for i in range(len(data)):\n",
    "        for j in range(1, window_size+1):\n",
    "            if i - j >= 0:\n",
    "                x.append(data[i])\n",
    "                y.append(data[i - j])\n",
    "                negative_y.append([np.random.randint(vocab_size) for _ in range(K)])\n",
    "            if i + j < len(data):\n",
    "                x.append(data[i])\n",
    "                y.append(data[i + j])\n",
    "                negative_y.append([np.random.randint(vocab_size) for _ in range(K)])\n",
    "        \n",
    "    return np.asarray(x), np.asarray(y), np.asarray(negative_y)\n",
    "\n",
    "Xn, Yn, negative_y = get_train_data_negative(text, 2, 10, vocab_size)\n",
    "print(Xn.shape)\n",
    "print(Yn.shape)\n",
    "print(negative_y.shape)"
   ]
  },
  {
   "cell_type": "code",
   "execution_count": 177,
   "id": "d3c6549b-fd92-43c4-883a-889aa24784f6",
   "metadata": {},
   "outputs": [
    {
     "name": "stdout",
     "output_type": "stream",
     "text": [
      "(3386, 274)\n"
     ]
    }
   ],
   "source": [
    "def softmax_n(X, targets):\n",
    "    # Masked softmax for negative sampling\n",
    "    mask = np.zeros_like(X, dtype=bool)\n",
    "    mask[np.arange(X.shape[0])[:, None], targets] = True\n",
    "    \n",
    "    X_masked = np.where(mask, X, -np.inf)\n",
    "    X_max = np.max(X_masked, axis=1, keepdims=True)\n",
    "    exps = np.exp(X_masked - X_max)\n",
    "    sum_exps = np.sum(np.where(mask, exps, 0), axis=1, keepdims=True)\n",
    "    softmax_values = exps / sum_exps\n",
    "    \n",
    "    return np.where(mask, softmax_values, 0)\n",
    "\n",
    "def forward_pass_n(model, input, target, negative_target):\n",
    "    state = {}\n",
    "\n",
    "    state[\"first_layer\"] = model[\"w1\"][input]\n",
    "    state[\"second_layer\"] = state[\"first_layer\"] @ model[\"w2\"]\n",
    "    # Sha de passar un X reduit per fer el negative sampling (només amb el positive sampling i els K exemples de més per banda)\n",
    "    state[\"z\"] = softmax_n(state[\"second_layer\"], np.column_stack((target, negative_target)))\n",
    "    return state\n",
    "\n",
    "def cross_entropy_negative(pred, target):\n",
    "    epsilon = 1e-12\n",
    "    pred = np.clip(pred, epsilon, 1. - epsilon)\n",
    "    target_probs = pred[np.arange(len(target)), target]\n",
    "    \n",
    "    return - np.sum(np.log(target_probs))\n",
    "\n",
    "def backpropagation_negative(model, input, target, negative_target, learning_rate):\n",
    "    state = forward_pass_n(model, input, target, negative_target)\n",
    "    da2 = np.zeros_like(state[\"z\"])\n",
    "    np.copyto(da2, state[\"z\"])\n",
    "    da2[np.arange(da2.shape[0]), target] -= 1\n",
    "    dw2 = state[\"first_layer\"].T @ da2\n",
    "    da1 = da2 @ model[\"w2\"].T\n",
    "    dw1 = np.zeros_like(model[\"w1\"])\n",
    "    np.add.at(dw1, input, da1)\n",
    "    model[\"w1\"] -= learning_rate * dw1\n",
    "    model[\"w2\"] -= learning_rate * dw2\n",
    "    return cross_entropy_negative(state[\"z\"], target)\n",
    "    \n",
    "model2 = initialitze_model(20)\n",
    "state = forward_pass_n(model2, Xn, Yn, negative_y)\n",
    "print(state[\"z\"].shape)"
   ]
  },
  {
   "cell_type": "code",
   "execution_count": 178,
   "id": "6b447e7d-b699-457d-beb8-248de6b1efc4",
   "metadata": {},
   "outputs": [
    {
     "name": "stdout",
     "output_type": "stream",
     "text": [
      "Iteration 0: Loss = 24873.45181585807\n",
      "Iteration 1000: Loss = 5928.1810716073705\n",
      "Iteration 2000: Loss = 3737.8053156668684\n",
      "Iteration 3000: Loss = 2904.398811897055\n",
      "Iteration 4000: Loss = 2471.5435185971082\n",
      "Iteration 5000: Loss = 2192.1614500826954\n",
      "Iteration 6000: Loss = 1983.7556903849932\n",
      "Iteration 7000: Loss = 1817.7072129422315\n",
      "Iteration 8000: Loss = 1682.32392422482\n",
      "Iteration 9000: Loss = 1570.9975055910531\n",
      "Training time: 338.48813939094543\n"
     ]
    },
    {
     "data": {
      "image/png": "[encoded data removed]",
      "text/plain": [
       "<Figure size 640x480 with 1 Axes>"
      ]
     },
     "metadata": {},
     "output_type": "display_data"
    },
    {
     "name": "stdout",
     "output_type": "stream",
     "text": [
      "Final Loss: 1479.3220615545724\n"
     ]
    }
   ],
   "source": [
    "import matplotlib.pyplot as plt\n",
    "import time\n",
    "\n",
    "n_iter = 10000\n",
    "learning_rate = 0.0001\n",
    "losses = []\n",
    "\n",
    "start_time = time.time()\n",
    "# Actualitzat per utilitzar la versió speedup\n",
    "for i in range(n_iter):\n",
    "    loss = backpropagation_negative(model2, Xn, Yn, negative_y, learning_rate)\n",
    "    losses.append(loss)\n",
    "    if i % 1000 == 0:\n",
    "        print(f\"Iteration {i}: Loss = {loss}\")\n",
    "        \n",
    "print(f\"Training time: {time.time() - start_time}\")\n",
    "plt.plot(range(len(losses)), losses)\n",
    "plt.xlabel('Iteration')\n",
    "plt.ylabel('Loss')\n",
    "plt.title('Training Loss over Iterations')\n",
    "plt.show()\n",
    "\n",
    "print(f\"Final Loss: {losses[-1]}\")"
   ]
  },
  {
   "cell_type": "code",
   "execution_count": 179,
   "id": "d01a2f26-9e5c-4e00-911e-1568c546f04c",
   "metadata": {},
   "outputs": [
    {
     "name": "stdout",
     "output_type": "stream",
     "text": [
      "[-1.11911927  0.18068106  0.05138687  1.70896092  1.39320613 -1.14727023\n",
      " -0.01246416  1.38350361  0.18225415 -1.26852756 -0.20956961 -0.73140989\n",
      "  1.61964826  1.20948982 -1.3263272   0.43410211 -0.04497559  0.45400111\n",
      "  0.05922979 -0.44864871]\n",
      "[-0.44068089 -0.57783175 -0.22925744  0.48282308  1.51243156 -0.61348013\n",
      " -0.99579271  0.69403208  0.51262166 -2.35065861 -0.34354289  0.32366732\n",
      "  0.18442201  0.36549629  1.1091921   0.08646345  0.69180806 -0.38792422\n",
      " -0.69769616  0.14654731]\n",
      "[-2.12714516 -0.94169335 -0.9407801  -0.43499469  0.7985227   1.70675448\n",
      " -1.06707408  0.80975163  0.89083743  1.01789413  1.52170169  0.97645411\n",
      " -1.02704938  0.0753412  -0.20741967  0.57509098 -1.17710298 -0.5368753\n",
      "  1.62924946  1.69146835]\n",
      "Similitud entre lamine i yamal:  0.44127372138555643\n",
      "Similitud entre lamine i principis:  -0.10971244991813106\n"
     ]
    }
   ],
   "source": [
    "lamine_embedding = get_skipgram_embedding(model2, \"lamine\")\n",
    "yamal_embedding = get_skipgram_embedding(model2, \"yamal\")\n",
    "principis_embedding = get_skipgram_embedding(model2, \"principis\")\n",
    "\n",
    "# Cosine similarity com a aproximació per veure la similitud entre els vectors\n",
    "def cosine_similarity(a, b):\n",
    "    dot_product = np.dot(a, b)\n",
    "    norm_a = np.linalg.norm(a)\n",
    "    norm_b = np.linalg.norm(b)\n",
    "    return dot_product / (norm_a * norm_b)\n",
    "\n",
    "print(lamine_embedding)\n",
    "print(yamal_embedding)\n",
    "print(principis_embedding)\n",
    "\n",
    "print(\"Similitud entre lamine i yamal: \", cosine_similarity(lamine_embedding, yamal_embedding))\n",
    "print(\"Similitud entre lamine i principis: \", cosine_similarity(lamine_embedding, principis_embedding))"
   ]
  },
  {
   "cell_type": "code",
   "execution_count": null,
   "id": "b1c22978-43a1-41d2-b5f4-651f321f20c6",
   "metadata": {},
   "outputs": [],
   "source": []
  }
 ],
 "metadata": {
  "kernelspec": {
   "display_name": "Python 3 (ipykernel)",
   "language": "python",
   "name": "python3"
  },
  "language_info": {
   "codemirror_mode": {
    "name": "ipython",
    "version": 3
   },
   "file_extension": ".py",
   "mimetype": "text/x-python",
   "name": "python",
   "nbconvert_exporter": "python",
   "pygments_lexer": "ipython3",
   "version": "3.9.7"
  }
 },
 "nbformat": 4,
 "nbformat_minor": 5
}
