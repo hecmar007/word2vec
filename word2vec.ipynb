{
 "cells": [
  {
   "cell_type": "markdown",
   "id": "3ffb9ddb-ed51-4400-8d7a-01d75f8ff7b9",
   "metadata": {},
   "source": [
    "Part I: skip-gram"
   ]
  },
  {
   "cell_type": "code",
   "execution_count": 123,
   "id": "62a3c657-9445-41ad-b2db-f196c66ee153",
   "metadata": {},
   "outputs": [
    {
     "name": "stdout",
     "output_type": "stream",
     "text": [
      "lamine yamal va arribar amb 7 anys al planter de la masia procedent del petit club cf la torreta aviat va ser considerat una de les millors promeses de lacadèmia encara que va ser inclòs en lequip juvenil a ja per sobre de la seva edat per a la temporada 202223 va ser seleccionat per xavi per entrenar amb el primer equip amb altres joves a principis de setembre del 2022 malgrat que encara no ha signat el seu primer contracte professional amb el club lamine yamal sembla ser un dels membres del planter que més ha impressionat el tècnic català va debutar amb el primer equip el 29 dabril del 2023 substituint gavi al minut 83 en la victòria per 40 contra el reial betis a la lliga convertintse en el jugador més jove en debutar amb el primer equip del fc barcelona amb 15 anys 9 mesos i 16 dies el 14 de maig del 2023 va guanyar el seu primer títol amb el barça ja que va formar part de la plantilla que va guanyar la lliga 202223 lamine yamal va ser titular per primera vegada amb el club el 20 dagost del 2023 en una victòria per 20 contra el cadis a lestadi olímpic lluís companys convertintse en el titular més jove del barcelona a la lliga amb 16 anys i 38 dies la seva primera titularitat va ser rebuda amb una gran ovació per part de lafició quan va ser substituït mancant cinc minuts per al final del partit en la seva següent aparició com a titular lamine yamal va ser nomenat home del partit després de contribuir als dos gols marcats per gavi i robert lewandowski en la victòria per 43 davant el vilareal cf el 28 dagost de 2023 amb 16 anys i 45 dies es va convertir en el jugador més jove a donar una assistència en un partit de lliga uns dies més tard es convertiria amb el jugador més jove del barça a debutar a la lliga de campions amb 16 anys i 68 dies superant el registre de vicky lópez 16 anys i 148 dies el 2 doctubre el fc barcelona anunciava que lamine yamal renovava el seu contracte fins al 2026 amb una clàusula de rescissió de 1000 milions deuros dos dies després va ser titular al seu primer partit de la lliga de campions contra el porto convertintse en el jugador més jove en una alineació titular amb 16 anys i 83 dies lamine yamal era tres dies més jove que celestine babayaro que va establir el rècord el 1994 el 8 doctubre del 2023 lamine va marcar el seu primer gol amb el primer equip en un empat a domicili contra el granada 22 es va convertir en el golejador més jove del barcelona i en el més jove de la història a marcar a la lliga amb 16 anys i 87 dies batent tots dos rècords establerts per ansu fati i fabrice olinga respectivament el 28 doctubre de 2023 lamine va fer la seva primera aparició a el clàssic com a suplent en una derrota per 21 a casa convertintse en el jugador més jove en ser titular amb el barcelona des dansu fati i batent el rècord de vicenç martínez el 1941 el 4 de desembre de 2023 lamine va rebre el trofeu inaugural golden boy the youngest que es concedeix al jugador més jove nominat per al premi golden boy posteriorment el dia de la cerimònia lamine no va estar present a causa dels seus estudis l11 de gener del 2024 lamine va marcar contra losasuna a la victòria per 20 del barcelona a la semifinal de la supercopa despanya es va convertir en el jugador més jove amb 16 anys i 182 dies a marcar a la supercopa lamine va jugar els últims 29 minuts de la final de la supercopa despanya contra el reial madrid el 14 de gener de 2024 es va convertir en el jugador més jove a marcar a la copa del rei després de marcar al minut 32 contra lathletic club en una eventual derrota per 42 a quarts de final l11 de febrer de 2024 lamine va marcar dos gols en lempat a 33 contra el granada cf i va ser triat millor jugador del partit per tant es va convertir en el jugador més jove de la lliga en marcar un doblet batent el rècord anterior de bojan krkić el 2008 i el primer jugador a aconseguir aquest rècord amb menys de 17 anys també es va convertir en el jugador més jove en assolir més de 10 gols i assistir contribucions a la lliga amb 16 anys i 213 dies el 21 de febrer es va convertir en el jugador més jove a jugar la fase eliminatòria de la lliga de campions amb 16 anys i 223 dies quan el barcelona va jugar contra la ssc napoli a la fase eliminatòria de la fase eliminatòria de la lliga de campions batent el rècord anterior del migcampista del paris saintgermain fc warren zaïreemery \n"
     ]
    }
   ],
   "source": [
    "import numpy as np\n",
    "import re\n",
    "\n",
    "text = '''Lamine Yamal, va arribar amb 7 anys al planter de La Masia, procedent del petit club CF la Torreta. Aviat va ser considerat una de les millors promeses de l'acadèmia.\n",
    "\n",
    "Encara que va ser inclòs en l'equip Juvenil A -ja per sobre de la seva edat- per a la temporada 2022-23, va ser seleccionat per Xavi per entrenar amb el primer equip amb altres joves a principis de setembre del 2022. Malgrat que encara no ha signat el seu primer contracte professional amb el club, Lamine Yamal sembla ser un dels membres del planter que més ha impressionat el tècnic català.\n",
    "\n",
    "Va debutar amb el primer equip el 29 d'abril del 2023, substituint Gavi al minut 83 en la victòria per 4-0 contra el Reial Betis a la Lliga, convertint-se en el jugador més jove en debutar amb el primer equip del FC Barcelona amb 15 anys, 9 mesos i 16 dies. El 14 de maig del 2023 va guanyar el seu primer títol amb el Barça, ja que va formar part de la plantilla que va guanyar la Lliga 2022-23.\n",
    "\n",
    "Lamine Yamal va ser titular per primera vegada amb el club el 20 d'agost del 2023 en una victòria per 2-0 contra el Cadis a l'Estadi Olímpic Lluís Companys, convertint-se en el titular més jove del Barcelona a la Lliga amb 16 anys i 38 dies. La seva primera titularitat va ser rebuda amb una gran ovació per part de l'afició quan va ser substituït mancant cinc minuts per al final del partit. En la seva següent aparició com a titular, Lamine Yamal va ser nomenat home del partit després de contribuir als dos gols marcats per Gavi i Robert Lewandowski en la victòria per 4-3 davant el Vila-real CF el 28 d'agost de 2023. Amb 16 anys i 45 dies, es va convertir en el jugador més jove a donar una assistència en un partit de Lliga. Uns dies més tard, es convertiria amb el jugador més jove del Barça a debutar a la Lliga de Campions amb 16 anys i 68 dies, superant el registre de Vicky López (16 anys i 148 dies).\n",
    "\n",
    "El 2 d'octubre, el FC Barcelona anunciava que Lamine Yamal renovava el seu contracte fins al 2026, amb una clàusula de rescissió de 1.000 milions d'euros. Dos dies després, va ser titular al seu primer partit de la Lliga de Campions contra el Porto, convertint-se en el jugador més jove en una alineació titular amb 16 anys i 83 dies. Lamine Yamal era tres dies més jove que Celestine Babayaro, que va establir el rècord el 1994. El 8 d'octubre del 2023, Lamine va marcar el seu primer gol amb el primer equip en un empat a domicili contra el Granada (2-2). Es va convertir en el golejador més jove del Barcelona i en el més jove de la història a marcar a la Lliga, amb 16 anys i 87 dies, batent tots dos rècords establerts per Ansu Fati i Fabrice Olinga respectivament. El 28 d'octubre de 2023, Lamine va fer la seva primera aparició a El Clàssic com a suplent en una derrota per 2-1 a casa, convertint-se en el jugador més jove en ser titular amb el Barcelona des d'Ansu Fati i batent el rècord de Vicenç Martínez el 1941.\n",
    "\n",
    "El 4 de desembre de 2023, Lamine va rebre el trofeu inaugural Golden Boy The Youngest, que es concedeix al jugador més jove nominat per al premi Golden Boy. Posteriorment, el dia de la cerimònia, Lamine no va estar present a causa dels seus estudis.\n",
    "\n",
    "L'11 de gener del 2024, Lamine va marcar contra l'Osasuna a la victòria per 2-0 del Barcelona a la semifinal de la Supercopa d'Espanya. Es va convertir en el jugador més jove, amb 16 anys i 182 dies, a marcar a la Supercopa. Lamine va jugar els últims 29 minuts de la final de la Supercopa d'Espanya contra el Reial Madrid el 14 de gener de 2024. Es va convertir en el jugador més jove a marcar a la Copa del Rei després de marcar al minut 32 contra l'Athletic Club en una eventual derrota per 4-2 a quarts de final.\n",
    "\n",
    "L'11 de febrer de 2024, Lamine va marcar dos gols en l'empat a 3-3 contra el Granada CF i va ser triat millor jugador del partit. Per tant, es va convertir en el jugador més jove de la Lliga en marcar un doblet, batent el rècord anterior de Bojan Krkić el 2008, i el primer jugador a aconseguir aquest rècord amb menys de 17 anys. També es va convertir en el jugador més jove en assolir més de 10 gols i assistir contribucions a la Lliga amb 16 anys i 213 dies. El 21 de febrer es va convertir en el jugador més jove a jugar la fase eliminatòria de la Lliga de Campions, amb 16 anys i 223 dies, quan el Barcelona va jugar contra la SSC Napoli a la fase eliminatòria de la Fase eliminatòria de la Lliga de Campions, batent el rècord anterior del migcampista del Paris Saint-Germain FC Warren Zaïre-Emery.'''\n",
    "\n",
    "# Pre-processament del text per obtenir el nostre vocabulari (tokenitzacio)\n",
    "text = re.sub(r'[^\\w\\s]', '', text)\n",
    "text = text.lower()\n",
    "words = sorted(list(set(text.split())))\n",
    "vocab_size = len(words)\n",
    "\n",
    "token_to_idx = {}\n",
    "idx_to_token = {}\n",
    "\n",
    "for i, token in enumerate(words):\n",
    "    token_to_idx[token] = i\n",
    "    idx_to_token[i] = token\n",
    "\n",
    "encode = lambda s: [token_to_idx[c] for c in s.split()]\n",
    "decode = lambda l: ''.join([idx_to_token[i]+ \" \" for i in l])\n",
    "\n",
    "\n",
    "print(decode(encode(text)))"
   ]
  },
  {
   "cell_type": "code",
   "execution_count": 124,
   "id": "937744a4-44fc-43d5-a6f8-8972023bae84",
   "metadata": {},
   "outputs": [
    {
     "name": "stdout",
     "output_type": "stream",
     "text": [
      "(3386, 274)\n",
      "(3386, 274)\n"
     ]
    }
   ],
   "source": [
    "def one_hot_encode(token, size):\n",
    "    vec = np.zeros(size)\n",
    "    vec[token] = 1\n",
    "    return vec\n",
    "\n",
    "# Obtenim les dades preparades per entrenar\n",
    "# Retorna la llista x, el token actual, i la llista y, el context\n",
    "def get_train_data(text, window_size):\n",
    "    data = encode(text)\n",
    "    x = []\n",
    "    y = []\n",
    "    for i in range(len(data)):\n",
    "        for j in range(1, window_size+1):\n",
    "            if i - j >= 0:\n",
    "                x.append(one_hot_encode(data[i], vocab_size))\n",
    "                y.append(one_hot_encode(data[i - j], vocab_size))\n",
    "            if i + j < len(data):\n",
    "                x.append(one_hot_encode(data[i], vocab_size))\n",
    "                y.append(one_hot_encode(data[i + j], vocab_size))\n",
    "    return np.asarray(x), np.asarray(y)\n",
    "\n",
    "X, Y = get_train_data(text, 2)\n",
    "print(X.shape)\n",
    "print(Y.shape)\n"
   ]
  },
  {
   "cell_type": "code",
   "execution_count": 125,
   "id": "0695d7e4-dc3d-4d46-ae9f-d784c22d0203",
   "metadata": {},
   "outputs": [
    {
     "name": "stdout",
     "output_type": "stream",
     "text": [
      "274\n"
     ]
    }
   ],
   "source": [
    "# Inicalitzem el model\n",
    "def initialitze_model(n_embd):\n",
    "    model = {\n",
    "        \"w1\": np.random.randn(vocab_size, n_embd),\n",
    "        \"w2\": np.random.randn(n_embd, vocab_size)\n",
    "    }\n",
    "    return model\n",
    "\n",
    "def softmax(X):\n",
    "    exps = np.exp(X - np.max(X, axis=-1, keepdims=True))\n",
    "    return exps / np.sum(exps, axis=-1, keepdims=True)\n",
    "\n",
    "def forward_pass(model, input):\n",
    "    state = {}\n",
    "    \n",
    "    state[\"first_layer\"] = input @ model[\"w1\"]\n",
    "    state[\"second_layer\"] = state[\"first_layer\"] @ model[\"w2\"]\n",
    "    state[\"z\"] = softmax(state[\"second_layer\"])\n",
    "    return state\n",
    "\n",
    "model = initialitze_model(20)\n",
    "print(len(forward_pass(model, X)[\"z\"][0]))"
   ]
  },
  {
   "cell_type": "code",
   "execution_count": 126,
   "id": "dd775a40-816d-40cf-a286-2413267b8dbd",
   "metadata": {},
   "outputs": [
    {
     "name": "stdout",
     "output_type": "stream",
     "text": [
      "44561.46316260614\n"
     ]
    }
   ],
   "source": [
    "# Backpropagation\n",
    "def cross_entropy(pred, target):\n",
    "    epsilon = 1e-12  # small constant to avoid log(0)\n",
    "    pred = np.clip(pred, epsilon, 1. - epsilon)\n",
    "    return - np.sum(target * np.log(pred))\n",
    "\n",
    "def backpropagation(model, input, target, learning_rate):\n",
    "    state = forward_pass(model, input)\n",
    "    da2 = state[\"z\"] - target\n",
    "    dw2 = state[\"first_layer\"].T @ da2\n",
    "    da1 = da2 @ model[\"w2\"].T\n",
    "    dw1 = input.T @ da1\n",
    "    model[\"w1\"] -= learning_rate * dw1\n",
    "    model[\"w2\"] -= learning_rate * dw2\n",
    "    return cross_entropy(state[\"z\"], target)\n",
    "\n",
    "print(backpropagation(model, X, Y, 0.01))"
   ]
  },
  {
   "cell_type": "code",
   "execution_count": 127,
   "id": "761712db-aeea-4532-a81b-d4fa3a2d0ddb",
   "metadata": {},
   "outputs": [
    {
     "name": "stdout",
     "output_type": "stream",
     "text": [
      "Iteration 0: Loss = 35599.45565012579\n",
      "Iteration 100: Loss = 15892.058331803482\n",
      "Iteration 200: Loss = 13352.207604189316\n",
      "Iteration 300: Loss = 12112.798214708257\n",
      "Iteration 400: Loss = 11364.043101968073\n",
      "Iteration 500: Loss = 10862.58363277761\n",
      "Iteration 600: Loss = 10508.839923488023\n",
      "Iteration 700: Loss = 10250.26141541842\n",
      "Iteration 800: Loss = 10052.034765236063\n",
      "Iteration 900: Loss = 9893.927340799473\n",
      "Iteration 1000: Loss = 9764.01050113086\n",
      "Iteration 1100: Loss = 9655.580187267904\n",
      "Iteration 1200: Loss = 9564.657601081899\n",
      "Iteration 1300: Loss = 9488.59987279696\n",
      "Iteration 1400: Loss = 9425.324262124093\n",
      "Iteration 1500: Loss = 9372.886246672453\n",
      "Iteration 1600: Loss = 9329.350917261458\n",
      "Iteration 1700: Loss = 9292.932310610682\n",
      "Iteration 1800: Loss = 9262.15437527498\n",
      "Iteration 1900: Loss = 9235.871303930138\n",
      "Iteration 2000: Loss = 9213.228278375502\n",
      "Iteration 2100: Loss = 9193.59809852985\n",
      "Iteration 2200: Loss = 9176.517620973687\n",
      "Iteration 2300: Loss = 9161.634461496667\n",
      "Iteration 2400: Loss = 9148.667026831808\n",
      "Iteration 2500: Loss = 9137.383418477773\n",
      "Iteration 2600: Loss = 9127.58094571198\n",
      "Iteration 2700: Loss = 9119.066205073612\n",
      "Iteration 2800: Loss = 9111.65710817171\n",
      "Iteration 2900: Loss = 9105.192839478881\n",
      "Iteration 3000: Loss = 9099.535356099981\n",
      "Iteration 3100: Loss = 9097.457727631074\n",
      "Iteration 3200: Loss = 9093.373252063599\n",
      "Iteration 3300: Loss = 9090.036898196393\n",
      "Iteration 3400: Loss = 9087.538434457443\n",
      "Iteration 3500: Loss = 9085.377102314953\n",
      "Iteration 3600: Loss = 9083.399329362011\n",
      "Iteration 3700: Loss = 9081.58332061508\n",
      "Iteration 3800: Loss = 9079.904074288372\n",
      "Iteration 3900: Loss = 9078.341595363892\n",
      "Iteration 4000: Loss = 9076.880231086383\n",
      "Iteration 4100: Loss = 9075.507617475974\n",
      "Iteration 4200: Loss = 9074.213855253862\n",
      "Iteration 4300: Loss = 9072.990902022264\n",
      "Iteration 4400: Loss = 9071.832126592568\n",
      "Iteration 4500: Loss = 9070.731980785766\n",
      "Iteration 4600: Loss = 9069.685756136656\n",
      "Iteration 4700: Loss = 9068.689402275893\n",
      "Iteration 4800: Loss = 9067.739390422053\n",
      "Iteration 4900: Loss = 9066.83261009119\n"
     ]
    },
    {
     "data": {
      "image/png": "[encoded data removed]",
      "text/plain": [
       "<Figure size 640x480 with 1 Axes>"
      ]
     },
     "metadata": {},
     "output_type": "display_data"
    },
    {
     "name": "stdout",
     "output_type": "stream",
     "text": [
      "Final Loss: 9066.966755023832\n"
     ]
    }
   ],
   "source": [
    "import matplotlib.pyplot as plt\n",
    "\n",
    "n_iter = 5000\n",
    "learning_rate = 0.001\n",
    "losses = []\n",
    "\n",
    "for i in range(n_iter):\n",
    "    loss = backpropagation(model, X, Y, learning_rate)\n",
    "    losses.append(loss)\n",
    "    if i % 100 == 0:\n",
    "        print(f\"Iteration {i}: Loss = {loss}\")\n",
    "\n",
    "plt.plot(range(len(losses)), losses)\n",
    "plt.xlabel('Iteration')\n",
    "plt.ylabel('Loss')\n",
    "plt.title('Training Loss over Iterations')\n",
    "plt.show()\n",
    "\n",
    "print(f\"Final Loss: {losses[-1]}\")"
   ]
  },
  {
   "cell_type": "code",
   "execution_count": 130,
   "id": "86826fee-8a91-49be-a67d-4da7db1c8de8",
   "metadata": {},
   "outputs": [
    {
     "name": "stdout",
     "output_type": "stream",
     "text": [
      "[ 1.14408542 -1.8821474   1.19028997  1.98972707  0.23475362  0.54483305\n",
      " -1.24745258 -1.27391107 -0.88908752 -0.92095116 -0.22676534 -1.0482572\n",
      " -2.22033897  1.47204241  2.44799481  0.49175637  1.85993614 -0.46431396\n",
      " -0.25375019 -0.14223195]\n",
      "[ 0.88211201 -3.05340807 -0.15628535  0.3230372   0.48057424  0.99612203\n",
      " -1.63980128 -0.48905543 -0.81296174  0.08498945  0.09667364 -0.14292184\n",
      "  0.47565022  1.21878774  0.12649258  0.67330647  1.86700647 -1.72242835\n",
      " -1.61025761 -1.77826343]\n",
      "[-0.9190838   1.47525016  2.3774115   0.14727664 -0.26920794 -0.06012809\n",
      "  1.05786371 -1.40260336 -2.22922468 -0.03855381 -0.12131451  0.6081204\n",
      "  0.62401517  0.5134202  -0.02646238 -0.22818061 -0.09412304  1.05772109\n",
      " -0.91154735  0.12419971]\n",
      "Similitud entre lamine i yamal:  0.5597118680526001\n",
      "Similitud entre lamine i principis:  -0.007184584792066566\n"
     ]
    }
   ],
   "source": [
    "def get_skipgram_embedding(model, word):\n",
    "    vec = one_hot_encode(token_to_idx[word], len(token_to_idx))\n",
    "    return vec @ model[\"w1\"] \n",
    "\n",
    "lamine_embedding = get_skipgram_embedding(model, \"lamine\")\n",
    "yamal_embedding = get_skipgram_embedding(model, \"yamal\")\n",
    "principis_embedding = get_skipgram_embedding(model, \"principis\")\n",
    "\n",
    "# Cosine similarity com a aproximació per veure la similitud entre els vectors\n",
    "def cosine_similarity(a, b):\n",
    "    dot_product = np.dot(a, b)\n",
    "    norm_a = np.linalg.norm(a)\n",
    "    norm_b = np.linalg.norm(b)\n",
    "    return dot_product / (norm_a * norm_b)\n",
    "\n",
    "print(lamine_embedding)\n",
    "print(yamal_embedding)\n",
    "print(principis_embedding)\n",
    "\n",
    "print(\"Similitud entre lamine i yamal: \", cosine_similarity(lamine_embedding, yamal_embedding))\n",
    "print(\"Similitud entre lamine i principis: \", cosine_similarity(lamine_embedding, principis_embedding))"
   ]
  },
  {
   "cell_type": "code",
   "execution_count": 131,
   "id": "1a230eee-a919-479b-848f-ee287278c1c3",
   "metadata": {},
   "outputs": [
    {
     "name": "stdout",
     "output_type": "stream",
     "text": [
      "Les 5 paraules més probables d'estar en el context de yamal son:  ['lamine', 'va', 'ser', 'renovava', 'dies']\n"
     ]
    }
   ],
   "source": [
    "yamal = one_hot_encode(token_to_idx[\"yamal\"], len(token_to_idx))\n",
    "result = forward_pass(model, [lamine])\n",
    "result = result[\"z\"]\n",
    "words = []\n",
    "for word in (idx_to_token[id] for id in np.argsort(result)[::-1][0]):\n",
    "    words.append(word)\n",
    "\n",
    "print(\"Les 5 paraules més probables d'estar en el context de yamal son: \", words[::-1][:5])"
   ]
  },
  {
   "cell_type": "code",
   "execution_count": null,
   "id": "7bb77e50-4241-4ca2-a1bd-42e774675e2b",
   "metadata": {},
   "outputs": [],
   "source": []
  }
 ],
 "metadata": {
  "kernelspec": {
   "display_name": "Python 3 (ipykernel)",
   "language": "python",
   "name": "python3"
  },
  "language_info": {
   "codemirror_mode": {
    "name": "ipython",
    "version": 3
   },
   "file_extension": ".py",
   "mimetype": "text/x-python",
   "name": "python",
   "nbconvert_exporter": "python",
   "pygments_lexer": "ipython3",
   "version": "3.9.7"
  }
 },
 "nbformat": 4,
 "nbformat_minor": 5
}
